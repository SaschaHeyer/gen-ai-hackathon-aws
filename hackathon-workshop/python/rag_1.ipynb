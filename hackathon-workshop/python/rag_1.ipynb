{
 "cells": [
  {
   "cell_type": "markdown",
   "metadata": {
    "collapsed": false
   },
   "source": [
    "# RAG RetrieveAndGenerate API\n",
    "Chat with your document"
   ]
  },
  {
   "cell_type": "code",
   "execution_count": 1,
   "metadata": {},
   "outputs": [
    {
     "name": "stdout",
     "output_type": "stream",
     "text": [
      "Requirement already satisfied: pip in /Users/sascha/miniconda3/lib/python3.11/site-packages (24.1.2)\n",
      "Note: you may need to restart the kernel to use updated packages.\n",
      "Requirement already satisfied: boto3 in /Users/sascha/miniconda3/lib/python3.11/site-packages (1.33.2)\n",
      "Collecting boto3\n",
      "  Using cached boto3-1.34.147-py3-none-any.whl.metadata (6.6 kB)\n",
      "Collecting botocore<1.35.0,>=1.34.147 (from boto3)\n",
      "  Using cached botocore-1.34.147-py3-none-any.whl.metadata (5.7 kB)\n",
      "Requirement already satisfied: jmespath<2.0.0,>=0.7.1 in /Users/sascha/miniconda3/lib/python3.11/site-packages (from boto3) (1.0.1)\n",
      "Collecting s3transfer<0.11.0,>=0.10.0 (from boto3)\n",
      "  Using cached s3transfer-0.10.2-py3-none-any.whl.metadata (1.7 kB)\n",
      "Requirement already satisfied: python-dateutil<3.0.0,>=2.1 in /Users/sascha/miniconda3/lib/python3.11/site-packages (from botocore<1.35.0,>=1.34.147->boto3) (2.9.0.post0)\n",
      "Requirement already satisfied: urllib3!=2.2.0,<3,>=1.25.4 in /Users/sascha/miniconda3/lib/python3.11/site-packages (from botocore<1.35.0,>=1.34.147->boto3) (1.26.19)\n",
      "Requirement already satisfied: six>=1.5 in /Users/sascha/miniconda3/lib/python3.11/site-packages (from python-dateutil<3.0.0,>=2.1->botocore<1.35.0,>=1.34.147->boto3) (1.16.0)\n",
      "Using cached boto3-1.34.147-py3-none-any.whl (139 kB)\n",
      "Using cached botocore-1.34.147-py3-none-any.whl (12.4 MB)\n",
      "Using cached s3transfer-0.10.2-py3-none-any.whl (82 kB)\n",
      "Installing collected packages: botocore, s3transfer, boto3\n",
      "  Attempting uninstall: botocore\n",
      "    Found existing installation: botocore 1.33.13\n",
      "    Uninstalling botocore-1.33.13:\n",
      "      Successfully uninstalled botocore-1.33.13\n",
      "  Attempting uninstall: s3transfer\n",
      "    Found existing installation: s3transfer 0.8.2\n",
      "    Uninstalling s3transfer-0.8.2:\n",
      "      Successfully uninstalled s3transfer-0.8.2\n",
      "  Attempting uninstall: boto3\n",
      "    Found existing installation: boto3 1.33.2\n",
      "    Uninstalling boto3-1.33.2:\n",
      "      Successfully uninstalled boto3-1.33.2\n",
      "Successfully installed boto3-1.34.147 botocore-1.34.147 s3transfer-0.10.2\n",
      "Note: you may need to restart the kernel to use updated packages.\n",
      "Requirement already satisfied: botocore in /Users/sascha/miniconda3/lib/python3.11/site-packages (1.34.147)\n",
      "Requirement already satisfied: jmespath<2.0.0,>=0.7.1 in /Users/sascha/miniconda3/lib/python3.11/site-packages (from botocore) (1.0.1)\n",
      "Requirement already satisfied: python-dateutil<3.0.0,>=2.1 in /Users/sascha/miniconda3/lib/python3.11/site-packages (from botocore) (2.9.0.post0)\n",
      "Requirement already satisfied: urllib3!=2.2.0,<3,>=1.25.4 in /Users/sascha/miniconda3/lib/python3.11/site-packages (from botocore) (1.26.19)\n",
      "Requirement already satisfied: six>=1.5 in /Users/sascha/miniconda3/lib/python3.11/site-packages (from python-dateutil<3.0.0,>=2.1->botocore) (1.16.0)\n",
      "Note: you may need to restart the kernel to use updated packages.\n",
      "Requirement already satisfied: pypdf in /Users/sascha/miniconda3/lib/python3.11/site-packages (4.3.1)\n",
      "Note: you may need to restart the kernel to use updated packages.\n"
     ]
    }
   ],
   "source": [
    "%pip install --upgrade pip\n",
    "%pip install --upgrade boto3\n",
    "%pip install --upgrade botocore\n",
    "%pip install pypdf"
   ]
  },
  {
   "cell_type": "code",
   "execution_count": 2,
   "metadata": {},
   "outputs": [
    {
     "data": {
      "text/html": [
       "<script>Jupyter.notebook.kernel.restart()</script>"
      ],
      "text/plain": [
       "<IPython.core.display.HTML object>"
      ]
     },
     "execution_count": 2,
     "metadata": {},
     "output_type": "execute_result"
    }
   ],
   "source": [
    "# restart kernel\n",
    "from IPython.core.display import HTML\n",
    "HTML(\"<script>Jupyter.notebook.kernel.restart()</script>\")"
   ]
  },
  {
   "cell_type": "code",
   "execution_count": 3,
   "metadata": {},
   "outputs": [
    {
     "data": {
      "text/plain": [
       "'1.34.147'"
      ]
     },
     "execution_count": 3,
     "metadata": {},
     "output_type": "execute_result"
    }
   ],
   "source": [
    "import boto3\n",
    "boto3.__version__"
   ]
  },
  {
   "cell_type": "markdown",
   "metadata": {
    "collapsed": false
   },
   "source": [
    "Initialize client for Amazon Bedrock for accessing the `RetrieveAndGenerate` API."
   ]
  },
  {
   "cell_type": "code",
   "execution_count": 4,
   "metadata": {},
   "outputs": [
    {
     "name": "stdout",
     "output_type": "stream",
     "text": [
      "us-west-2\n"
     ]
    }
   ],
   "source": [
    "import boto3\n",
    "import pprint\n",
    "from botocore.client import Config\n",
    "\n",
    "pp = pprint.PrettyPrinter(indent=2)\n",
    "session = boto3.session.Session()\n",
    "region = session.region_name\n",
    "bedrock_config = Config(connect_timeout=120, read_timeout=120, retries={'max_attempts': 0})\n",
    "\n",
    "bedrock_agent_client = boto3.client(\"bedrock-agent-runtime\",\n",
    "                              region_name=region,\n",
    "                              config=bedrock_config,\n",
    "                                    )\n",
    "model_id = \"anthropic.claude-3-sonnet-20240229-v1:0\"\n",
    "\n",
    "print(region)"
   ]
  },
  {
   "cell_type": "markdown",
   "metadata": {
    "collapsed": false
   },
   "source": [
    "For data, you can either upload the document you want to chat with or point to the Amazon Simple Storage Service (Amazon S3) bucket location that contains your file. We provide you with both options in the notebook. However in both cases, the supported file formats are PDF, MD (Markdown), TXT, DOCX, HTML, CSV, XLS, and XLSX. Make that the file size does not exceed 10 MB and contains no more than 20K tokens. A token is considered to be a unit of text, such as a word, sub-word, number, or symbol, that is processed as a single entity. Due to the preset ingestion token limit, it is recommended to use a file under 10MB. However, a text-heavy file, that is much smaller than 10MB, can potentially breach the token limit."
   ]
  },
  {
   "cell_type": "markdown",
   "metadata": {},
   "source": [
    "### Option 1 - Upload the document\n",
    "\n",
    "In our example, we will use a pdf file."
   ]
  },
  {
   "cell_type": "code",
   "execution_count": 13,
   "metadata": {
    "collapsed": false
   },
   "outputs": [
    {
     "ename": "FileNotFoundError",
     "evalue": "[Errno 2] No such file or directory: '<path of your file such as file.pdf>'",
     "output_type": "error",
     "traceback": [
      "\u001b[0;31m---------------------------------------------------------------------------\u001b[0m",
      "\u001b[0;31mFileNotFoundError\u001b[0m                         Traceback (most recent call last)",
      "\u001b[1;32m/Users/sascha/Desktop/development/amazon-bedrock-samples/knowledge-bases/features-examples/00-zero-setup-chat-with-your-document/chat_with_document_kb.ipynb Cell 10\u001b[0m line \u001b[0;36m5\n\u001b[1;32m      <a href='vscode-notebook-cell:/Users/sascha/Desktop/development/amazon-bedrock-samples/knowledge-bases/features-examples/00-zero-setup-chat-with-your-document/chat_with_document_kb.ipynb#X12sZmlsZQ%3D%3D?line=2'>3</a>\u001b[0m \u001b[39m# creating a pdf reader object\u001b[39;00m\n\u001b[1;32m      <a href='vscode-notebook-cell:/Users/sascha/Desktop/development/amazon-bedrock-samples/knowledge-bases/features-examples/00-zero-setup-chat-with-your-document/chat_with_document_kb.ipynb#X12sZmlsZQ%3D%3D?line=3'>4</a>\u001b[0m file_name \u001b[39m=\u001b[39m \u001b[39m\"\u001b[39m\u001b[39m<path of your file such as file.pdf>\u001b[39m\u001b[39m\"\u001b[39m \u001b[39m#path of the file on your local machine.\u001b[39;00m\n\u001b[0;32m----> <a href='vscode-notebook-cell:/Users/sascha/Desktop/development/amazon-bedrock-samples/knowledge-bases/features-examples/00-zero-setup-chat-with-your-document/chat_with_document_kb.ipynb#X12sZmlsZQ%3D%3D?line=4'>5</a>\u001b[0m reader \u001b[39m=\u001b[39m PdfReader(file_name)\n\u001b[1;32m      <a href='vscode-notebook-cell:/Users/sascha/Desktop/development/amazon-bedrock-samples/knowledge-bases/features-examples/00-zero-setup-chat-with-your-document/chat_with_document_kb.ipynb#X12sZmlsZQ%3D%3D?line=5'>6</a>\u001b[0m \u001b[39m# printing number of pages in pdf file\u001b[39;00m\n\u001b[1;32m      <a href='vscode-notebook-cell:/Users/sascha/Desktop/development/amazon-bedrock-samples/knowledge-bases/features-examples/00-zero-setup-chat-with-your-document/chat_with_document_kb.ipynb#X12sZmlsZQ%3D%3D?line=6'>7</a>\u001b[0m \u001b[39mprint\u001b[39m(\u001b[39mlen\u001b[39m(reader\u001b[39m.\u001b[39mpages))\n",
      "File \u001b[0;32m~/miniconda3/lib/python3.11/site-packages/pypdf/_reader.py:134\u001b[0m, in \u001b[0;36mPdfReader.__init__\u001b[0;34m(self, stream, strict, password)\u001b[0m\n\u001b[1;32m    132\u001b[0m \u001b[39mself\u001b[39m\u001b[39m.\u001b[39m_stream_opened \u001b[39m=\u001b[39m \u001b[39mFalse\u001b[39;00m\n\u001b[1;32m    133\u001b[0m \u001b[39mif\u001b[39;00m \u001b[39misinstance\u001b[39m(stream, (\u001b[39mstr\u001b[39m, Path)):\n\u001b[0;32m--> 134\u001b[0m     \u001b[39mwith\u001b[39;00m \u001b[39mopen\u001b[39;49m(stream, \u001b[39m\"\u001b[39;49m\u001b[39mrb\u001b[39;49m\u001b[39m\"\u001b[39;49m) \u001b[39mas\u001b[39;00m fh:\n\u001b[1;32m    135\u001b[0m         stream \u001b[39m=\u001b[39m BytesIO(fh\u001b[39m.\u001b[39mread())\n\u001b[1;32m    136\u001b[0m     \u001b[39mself\u001b[39m\u001b[39m.\u001b[39m_stream_opened \u001b[39m=\u001b[39m \u001b[39mTrue\u001b[39;00m\n",
      "\u001b[0;31mFileNotFoundError\u001b[0m: [Errno 2] No such file or directory: '<path of your file such as file.pdf>'"
     ]
    }
   ],
   "source": [
    "# load pdf\n",
    "from pypdf import PdfReader\n",
    "# creating a pdf reader object\n",
    "file_name = \"<path of your file such as file.pdf>\" #path of the file on your local machine.\n",
    "reader = PdfReader(file_name)\n",
    "# printing number of pages in pdf file\n",
    "print(len(reader.pages))\n",
    "text = \"\"\n",
    "page_count = 1\n",
    "for page in reader.pages:\n",
    "    text+= f\"\\npage_{str(page_count)}\\n {page.extract_text()}\"\n",
    "print(text)"
   ]
  },
  {
   "cell_type": "markdown",
   "metadata": {
    "collapsed": false
   },
   "source": [
    "### Option 2 - Point to S3 location of your file\n",
    "Make sure to replace the `bucket_name` and `prefix_file_name` to the location of your file."
   ]
  },
  {
   "cell_type": "code",
   "execution_count": 5,
   "metadata": {},
   "outputs": [],
   "source": [
    "bucket_name = \"bedrock-doit-demo\"\n",
    "prefix_file_name = \"rag/AMZN-2022-Shareholder-Letter.pdf\" \n",
    "document_s3_uri = f's3://{bucket_name}/{prefix_file_name}'\n"
   ]
  },
  {
   "cell_type": "markdown",
   "metadata": {
    "collapsed": false
   },
   "source": [
    "### RetreiveAndGenerate API for chatting with your document\n",
    "The code in the below cell, defines a Python function called `retrieveAndGenerate` that takes two optional arguments: `input` (the input text) and `sourceType` (the type of source to use, defaulting to \"S3\"). It also sets a default value for the `model_id` parameter.\n",
    "\n",
    "The function constructs an Amazon Resource Name (ARN) for the specified model using the `model_id` and the `REGION` variable.\n",
    "\n",
    "If the `sourceType` is \"S3\", the function calls the `retrieve_and_generate` method of the `bedrock_agent_client` object, passing in the input text and a configuration for retrieving and generating from external sources. The configuration specifies that the source is an S3 location, and it provides the S3 URI of the document.\n",
    "\n",
    "If the `sourceType` is not \"S3\", the function calls the same `retrieve_and_generate` method, but with a different configuration. In this case, the source is specified as byte content, which includes a file name, content type (application/pdf), and the actual text data."
   ]
  },
  {
   "cell_type": "code",
   "execution_count": 6,
   "metadata": {},
   "outputs": [],
   "source": [
    "def retrieveAndGenerate(input, sourceType=\"S3\", model_id = \"anthropic.claude-3-sonnet-20240229-v1:0\"):\n",
    "    model_arn = f'arn:aws:bedrock:{region}::foundation-model/{model_id}'\n",
    "    if sourceType==\"S3\":\n",
    "        return bedrock_agent_client.retrieve_and_generate(\n",
    "            input={\n",
    "                'text': input\n",
    "            },\n",
    "            retrieveAndGenerateConfiguration={\n",
    "                'type': 'EXTERNAL_SOURCES',\n",
    "                'externalSourcesConfiguration': {\n",
    "                    'modelArn': model_arn,\n",
    "                    \"sources\": [\n",
    "                        {\n",
    "                            \"sourceType\": sourceType,\n",
    "                            \"s3Location\": {\n",
    "                                \"uri\": document_s3_uri\n",
    "                            }\n",
    "                        }\n",
    "                    ]\n",
    "                }\n",
    "            }\n",
    "        )\n",
    "    else:\n",
    "        return bedrock_agent_client.retrieve_and_generate(\n",
    "            input={\n",
    "                'text': input\n",
    "            },\n",
    "            retrieveAndGenerateConfiguration={\n",
    "                'type': 'EXTERNAL_SOURCES',\n",
    "                'externalSourcesConfiguration': {\n",
    "                    'modelArn': model_arn,\n",
    "                    \"sources\": [\n",
    "                        {\n",
    "                            \"sourceType\": sourceType,\n",
    "                            \"byteContent\": {\n",
    "                                \"identifier\": file_name,\n",
    "                                \"contentType\": \"application/pdf\",\n",
    "                                \"data\": text,\n",
    "                                }\n",
    "                        }\n",
    "                    ]\n",
    "                }\n",
    "            }\n",
    "        )"
   ]
  },
  {
   "cell_type": "markdown",
   "metadata": {
    "collapsed": false
   },
   "source": [
    "If you want to chat with the document by uploading the file use `sourceType` as `BYTE_CONTENT` for pointing it to s3 bucket, use `sourceType` as `S3`."
   ]
  },
  {
   "cell_type": "code",
   "execution_count": 7,
   "metadata": {
    "collapsed": false,
    "jupyter": {
     "outputs_hidden": false
    }
   },
   "outputs": [
    {
     "name": "stdout",
     "output_type": "stream",
     "text": [
      "('According to the letter, AWS had an $85 billion annualized revenue run rate '\n",
      " 'in 2022, growing 29% year-over-year on a $62 billion revenue base in 2021.')\n"
     ]
    }
   ],
   "source": [
    "query = \"What is AWS year-over-year revenue in 2022?\"\n",
    "response = retrieveAndGenerate(input=query)\n",
    "generated_text = response['output']['text']\n",
    "pp.pprint(generated_text)"
   ]
  },
  {
   "cell_type": "markdown",
   "metadata": {
    "collapsed": false
   },
   "source": [
    "## Citations or source attributions\n",
    "Lets retrieve the source attribution or citations for the above response.\n"
   ]
  },
  {
   "cell_type": "code",
   "execution_count": 8,
   "metadata": {},
   "outputs": [
    {
     "name": "stdout",
     "output_type": "stream",
     "text": [
      "[ 'Despite growing 29% year-over- year (“YoY”) in 2022 on a $62B revenue base, '\n",
      "  'AWS faces short-term headwinds right now as companies are being more '\n",
      "  'cautious in spending given the challenging, current macroeconomic '\n",
      "  'conditions. While some companies might obsess over how they could extract '\n",
      "  'as much money from customers as possible in these tight times, it’s neither '\n",
      "  'what customers want nor best for customers in the long term, so we’re '\n",
      "  'taking a different tack. One of the many advantages of AWS and cloud '\n",
      "  'computing is that when your business grows, you can seamlessly scale up; '\n",
      "  'and conversely, if your business contracts, you can choose to give us back '\n",
      "  'that capacity and cease paying for it. This elasticity is unique to the '\n",
      "  'cloud, and doesn’t exist when you’ve already made expensive capital '\n",
      "  'investments in your own on-premises datacenters, servers, and networking '\n",
      "  'gear. In AWS, like all our businesses, we’re not trying to optimize for any '\n",
      "  'one quarter or year. We’re trying to build customer relationships (and a '\n",
      "  'business) that outlast all of us; and as a result, our AWS sales and '\n",
      "  'support teams are spending much of their time helping customers optimize '\n",
      "  'their AWS spend so they can better weather this uncertain economy. ',\n",
      "  'Many of these AWS customers tell us that they’re not cost-cutting as much '\n",
      "  'as cost- optimizing so they can take their resources and apply them to '\n",
      "  'emerging and inventive new customer experiences they’re planning. Customers '\n",
      "  'have appreciated this customer-focused, long-term approach, and we think '\n",
      "  'it’ll bode well for both customers and AWS.   While these short-term '\n",
      "  'headwinds soften our growth rate, we like a lot of the fundamentals that '\n",
      "  'we’re seeing in AWS. Our new customer pipeline is robust, as are our active '\n",
      "  'migrations. Many companies use discontinuous periods like this to step back '\n",
      "  'and determine what they strategically want to change, and we find an '\n",
      "  'increasing number of enterprises opting out of managing their own '\n",
      "  'infrastructure, and preferring to move to AWS to enjoy the agility, '\n",
      "  'innovation, cost-efficiency, and security benefits. And most importantly '\n",
      "  'for customers, AWS continues to deliver new capabilities rapidly (over '\n",
      "  '3,300 new features and services launched in 2022), and invest in long-term '\n",
      "  'inventions that change what’s possible.   Chip development is a good '\n",
      "  'example. In last year’s letter, I mentioned the investment we were making '\n",
      "  'in our general-purpose CPU processors named Graviton. ']\n"
     ]
    }
   ],
   "source": [
    "citations = response[\"citations\"]\n",
    "contexts = []\n",
    "for citation in citations:\n",
    "    retrievedReferences = citation[\"retrievedReferences\"]\n",
    "    for reference in retrievedReferences:\n",
    "         contexts.append(reference[\"content\"][\"text\"])\n",
    "\n",
    "pp.pprint(contexts)"
   ]
  },
  {
   "cell_type": "markdown",
   "metadata": {},
   "source": [
    "## Next Steps\n",
    "In this notebook, we covered how Knowledge Bases for Amazon Bedrock now simplifies asking questions on a single document. We also demonstrated how to configure and use this capability through the Amazon Bedrock - AWS SDK, showcasing the simplicity and flexibility of this feature, which provides a zero-setup solution to gather information from a single document, without setting up a vector database.\n",
    "\n",
    "To further explore the capabilities of Knowledge Bases for Amazon Bedrock, refer to the following resources:\n",
    "\n",
    "[Knowledge bases for Amazon Bedrock](#https://docs.aws.amazon.com/bedrock/latest/userguide/knowledge-base.html)\n"
   ]
  },
  {
   "cell_type": "code",
   "execution_count": null,
   "metadata": {
    "collapsed": false
   },
   "outputs": [],
   "source": []
  }
 ],
 "metadata": {
  "kernelspec": {
   "display_name": "Python 3 (ipykernel)",
   "language": "python",
   "name": "python3"
  },
  "language_info": {
   "codemirror_mode": {
    "name": "ipython",
    "version": 3
   },
   "file_extension": ".py",
   "mimetype": "text/x-python",
   "name": "python",
   "nbconvert_exporter": "python",
   "pygments_lexer": "ipython3",
   "version": "3.11.5"
  }
 },
 "nbformat": 4,
 "nbformat_minor": 4
}
