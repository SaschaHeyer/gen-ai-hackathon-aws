{
 "cells": [
  {
   "cell_type": "markdown",
   "metadata": {
    "collapsed": false
   },
   "source": [
    "# RAG RetrieveAndGenerate API\n",
    "Chat with your document"
   ]
  },
  {
   "cell_type": "code",
   "execution_count": 1,
   "metadata": {},
   "outputs": [
    {
     "name": "stdout",
     "output_type": "stream",
     "text": [
      "Requirement already satisfied: pip in /Users/sascha/miniconda3/lib/python3.11/site-packages (24.1.2)\n",
      "Note: you may need to restart the kernel to use updated packages.\n",
      "Requirement already satisfied: boto3 in /Users/sascha/miniconda3/lib/python3.11/site-packages (1.33.2)\n",
      "Collecting boto3\n",
      "  Using cached boto3-1.34.147-py3-none-any.whl.metadata (6.6 kB)\n",
      "Collecting botocore<1.35.0,>=1.34.147 (from boto3)\n",
      "  Using cached botocore-1.34.147-py3-none-any.whl.metadata (5.7 kB)\n",
      "Requirement already satisfied: jmespath<2.0.0,>=0.7.1 in /Users/sascha/miniconda3/lib/python3.11/site-packages (from boto3) (1.0.1)\n",
      "Collecting s3transfer<0.11.0,>=0.10.0 (from boto3)\n",
      "  Using cached s3transfer-0.10.2-py3-none-any.whl.metadata (1.7 kB)\n",
      "Requirement already satisfied: python-dateutil<3.0.0,>=2.1 in /Users/sascha/miniconda3/lib/python3.11/site-packages (from botocore<1.35.0,>=1.34.147->boto3) (2.9.0.post0)\n",
      "Requirement already satisfied: urllib3!=2.2.0,<3,>=1.25.4 in /Users/sascha/miniconda3/lib/python3.11/site-packages (from botocore<1.35.0,>=1.34.147->boto3) (1.26.19)\n",
      "Requirement already satisfied: six>=1.5 in /Users/sascha/miniconda3/lib/python3.11/site-packages (from python-dateutil<3.0.0,>=2.1->botocore<1.35.0,>=1.34.147->boto3) (1.16.0)\n",
      "Using cached boto3-1.34.147-py3-none-any.whl (139 kB)\n",
      "Using cached botocore-1.34.147-py3-none-any.whl (12.4 MB)\n",
      "Using cached s3transfer-0.10.2-py3-none-any.whl (82 kB)\n",
      "Installing collected packages: botocore, s3transfer, boto3\n",
      "  Attempting uninstall: botocore\n",
      "    Found existing installation: botocore 1.33.13\n",
      "    Uninstalling botocore-1.33.13:\n",
      "      Successfully uninstalled botocore-1.33.13\n",
      "  Attempting uninstall: s3transfer\n",
      "    Found existing installation: s3transfer 0.8.2\n",
      "    Uninstalling s3transfer-0.8.2:\n",
      "      Successfully uninstalled s3transfer-0.8.2\n",
      "  Attempting uninstall: boto3\n",
      "    Found existing installation: boto3 1.33.2\n",
      "    Uninstalling boto3-1.33.2:\n",
      "      Successfully uninstalled boto3-1.33.2\n",
      "Successfully installed boto3-1.34.147 botocore-1.34.147 s3transfer-0.10.2\n",
      "Note: you may need to restart the kernel to use updated packages.\n",
      "Requirement already satisfied: botocore in /Users/sascha/miniconda3/lib/python3.11/site-packages (1.34.147)\n",
      "Requirement already satisfied: jmespath<2.0.0,>=0.7.1 in /Users/sascha/miniconda3/lib/python3.11/site-packages (from botocore) (1.0.1)\n",
      "Requirement already satisfied: python-dateutil<3.0.0,>=2.1 in /Users/sascha/miniconda3/lib/python3.11/site-packages (from botocore) (2.9.0.post0)\n",
      "Requirement already satisfied: urllib3!=2.2.0,<3,>=1.25.4 in /Users/sascha/miniconda3/lib/python3.11/site-packages (from botocore) (1.26.19)\n",
      "Requirement already satisfied: six>=1.5 in /Users/sascha/miniconda3/lib/python3.11/site-packages (from python-dateutil<3.0.0,>=2.1->botocore) (1.16.0)\n",
      "Note: you may need to restart the kernel to use updated packages.\n",
      "Requirement already satisfied: pypdf in /Users/sascha/miniconda3/lib/python3.11/site-packages (4.3.1)\n",
      "Note: you may need to restart the kernel to use updated packages.\n"
     ]
    }
   ],
   "source": [
    "%pip install --upgrade pip\n",
    "%pip install --upgrade boto3\n",
    "%pip install --upgrade botocore\n",
    "%pip install pypdf"
   ]
  },
  {
   "cell_type": "code",
   "execution_count": 2,
   "metadata": {},
   "outputs": [
    {
     "data": {
      "text/html": [
       "<script>Jupyter.notebook.kernel.restart()</script>"
      ],
      "text/plain": [
       "<IPython.core.display.HTML object>"
      ]
     },
     "execution_count": 2,
     "metadata": {},
     "output_type": "execute_result"
    }
   ],
   "source": [
    "# restart kernel\n",
    "from IPython.core.display import HTML\n",
    "HTML(\"<script>Jupyter.notebook.kernel.restart()</script>\")"
   ]
  },
  {
   "cell_type": "code",
   "execution_count": 3,
   "metadata": {},
   "outputs": [
    {
     "data": {
      "text/plain": [
       "'1.34.147'"
      ]
     },
     "execution_count": 3,
     "metadata": {},
     "output_type": "execute_result"
    }
   ],
   "source": [
    "import boto3\n",
    "boto3.__version__"
   ]
  },
  {
   "cell_type": "markdown",
   "metadata": {
    "collapsed": false
   },
   "source": [
    "Initialize client for Amazon Bedrock for accessing the `RetrieveAndGenerate` API."
   ]
  },
  {
   "cell_type": "code",
   "execution_count": 4,
   "metadata": {},
   "outputs": [
    {
     "name": "stdout",
     "output_type": "stream",
     "text": [
      "us-west-2\n"
     ]
    }
   ],
   "source": [
    "import boto3\n",
    "import pprint\n",
    "from botocore.client import Config\n",
    "\n",
    "pp = pprint.PrettyPrinter(indent=2)\n",
    "session = boto3.session.Session()\n",
    "region = session.region_name\n",
    "bedrock_config = Config(connect_timeout=120, read_timeout=120, retries={'max_attempts': 0})\n",
    "\n",
    "bedrock_agent_client = boto3.client(\"bedrock-agent-runtime\",\n",
    "                              region_name=region,\n",
    "                              config=bedrock_config,\n",
    "                                    )\n",
    "model_id = \"anthropic.claude-3-sonnet-20240229-v1:0\"\n",
    "\n",
    "print(region)"
   ]
  },
  {
   "cell_type": "markdown",
   "metadata": {
    "collapsed": false
   },
   "source": [
    "For data, you can either upload the document you want to chat with or point to the Amazon Simple Storage Service (Amazon S3) bucket location that contains your file. We provide you with both options in the notebook. However in both cases, the supported file formats are PDF, MD (Markdown), TXT, DOCX, HTML, CSV, XLS, and XLSX. Make that the file size does not exceed 10 MB and contains no more than 20K tokens. A token is considered to be a unit of text, such as a word, sub-word, number, or symbol, that is processed as a single entity. Due to the preset ingestion token limit, it is recommended to use a file under 10MB. However, a text-heavy file, that is much smaller than 10MB, can potentially breach the token limit."
   ]
  },
  {
   "cell_type": "markdown",
   "metadata": {},
   "source": [
    "### Option 1 - Upload the document\n",
    "\n",
    "In our example, we will use a pdf file."
   ]
  },
  {
   "cell_type": "code",
   "execution_count": 13,
   "metadata": {
    "collapsed": false
   },
   "outputs": [
    {
     "ename": "FileNotFoundError",
     "evalue": "[Errno 2] No such file or directory: '<path of your file such as file.pdf>'",
     "output_type": "error",
     "traceback": [
      "\u001b[0;31m---------------------------------------------------------------------------\u001b[0m",
      "\u001b[0;31mFileNotFoundError\u001b[0m                         Traceback (most recent call last)",
      "\u001b[1;32m/Users/sascha/Desktop/development/amazon-bedrock-samples/knowledge-bases/features-examples/00-zero-setup-chat-with-your-document/chat_with_document_kb.ipynb Cell 10\u001b[0m line \u001b[0;36m5\n\u001b[1;32m      <a href='vscode-notebook-cell:/Users/sascha/Desktop/development/amazon-bedrock-samples/knowledge-bases/features-examples/00-zero-setup-chat-with-your-document/chat_with_document_kb.ipynb#X12sZmlsZQ%3D%3D?line=2'>3</a>\u001b[0m \u001b[39m# creating a pdf reader object\u001b[39;00m\n\u001b[1;32m      <a href='vscode-notebook-cell:/Users/sascha/Desktop/development/amazon-bedrock-samples/knowledge-bases/features-examples/00-zero-setup-chat-with-your-document/chat_with_document_kb.ipynb#X12sZmlsZQ%3D%3D?line=3'>4</a>\u001b[0m file_name \u001b[39m=\u001b[39m \u001b[39m\"\u001b[39m\u001b[39m<path of your file such as file.pdf>\u001b[39m\u001b[39m\"\u001b[39m \u001b[39m#path of the file on your local machine.\u001b[39;00m\n\u001b[0;32m----> <a href='vscode-notebook-cell:/Users/sascha/Desktop/development/amazon-bedrock-samples/knowledge-bases/features-examples/00-zero-setup-chat-with-your-document/chat_with_document_kb.ipynb#X12sZmlsZQ%3D%3D?line=4'>5</a>\u001b[0m reader \u001b[39m=\u001b[39m PdfReader(file_name)\n\u001b[1;32m      <a href='vscode-notebook-cell:/Users/sascha/Desktop/development/amazon-bedrock-samples/knowledge-bases/features-examples/00-zero-setup-chat-with-your-document/chat_with_document_kb.ipynb#X12sZmlsZQ%3D%3D?line=5'>6</a>\u001b[0m \u001b[39m# printing number of pages in pdf file\u001b[39;00m\n\u001b[1;32m      <a href='vscode-notebook-cell:/Users/sascha/Desktop/development/amazon-bedrock-samples/knowledge-bases/features-examples/00-zero-setup-chat-with-your-document/chat_with_document_kb.ipynb#X12sZmlsZQ%3D%3D?line=6'>7</a>\u001b[0m \u001b[39mprint\u001b[39m(\u001b[39mlen\u001b[39m(reader\u001b[39m.\u001b[39mpages))\n",
      "File \u001b[0;32m~/miniconda3/lib/python3.11/site-packages/pypdf/_reader.py:134\u001b[0m, in \u001b[0;36mPdfReader.__init__\u001b[0;34m(self, stream, strict, password)\u001b[0m\n\u001b[1;32m    132\u001b[0m \u001b[39mself\u001b[39m\u001b[39m.\u001b[39m_stream_opened \u001b[39m=\u001b[39m \u001b[39mFalse\u001b[39;00m\n\u001b[1;32m    133\u001b[0m \u001b[39mif\u001b[39;00m \u001b[39misinstance\u001b[39m(stream, (\u001b[39mstr\u001b[39m, Path)):\n\u001b[0;32m--> 134\u001b[0m     \u001b[39mwith\u001b[39;00m \u001b[39mopen\u001b[39;49m(stream, \u001b[39m\"\u001b[39;49m\u001b[39mrb\u001b[39;49m\u001b[39m\"\u001b[39;49m) \u001b[39mas\u001b[39;00m fh:\n\u001b[1;32m    135\u001b[0m         stream \u001b[39m=\u001b[39m BytesIO(fh\u001b[39m.\u001b[39mread())\n\u001b[1;32m    136\u001b[0m     \u001b[39mself\u001b[39m\u001b[39m.\u001b[39m_stream_opened \u001b[39m=\u001b[39m \u001b[39mTrue\u001b[39;00m\n",
      "\u001b[0;31mFileNotFoundError\u001b[0m: [Errno 2] No such file or directory: '<path of your file such as file.pdf>'"
     ]
    }
   ],
   "source": [
    "# load pdf\n",
    "from pypdf import PdfReader\n",
    "# creating a pdf reader object\n",
    "file_name = \"<path of your file such as file.pdf>\" #path of the file on your local machine.\n",
    "reader = PdfReader(file_name)\n",
    "# printing number of pages in pdf file\n",
    "print(len(reader.pages))\n",
    "text = \"\"\n",
    "page_count = 1\n",
    "for page in reader.pages:\n",
    "    text+= f\"\\npage_{str(page_count)}\\n {page.extract_text()}\"\n",
    "print(text)"
   ]
  },
  {
   "cell_type": "markdown",
   "metadata": {
    "collapsed": false
   },
   "source": [
    "### Option 2 - Point to S3 location of your file\n",
    "Make sure to replace the `bucket_name` and `prefix_file_name` to the location of your file."
   ]
  },
  {
   "cell_type": "code",
   "execution_count": 5,
   "metadata": {},
   "outputs": [],
   "source": [
    "bucket_name = \"bedrock-doit-demo\"\n",
    "prefix_file_name = \"rag/AMZN-2022-Shareholder-Letter.pdf\" \n",
    "document_s3_uri = f's3://{bucket_name}/{prefix_file_name}'\n"
   ]
  },
  {
   "cell_type": "markdown",
   "metadata": {
    "collapsed": false
   },
   "source": [
    "### RetreiveAndGenerate API for chatting with your document\n",
    "The code in the below cell, defines a Python function called `retrieveAndGenerate` that takes two optional arguments: `input` (the input text) and `sourceType` (the type of source to use, defaulting to \"S3\"). It also sets a default value for the `model_id` parameter.\n",
    "\n",
    "The function constructs an Amazon Resource Name (ARN) for the specified model using the `model_id` and the `REGION` variable.\n",
    "\n",
    "If the `sourceType` is \"S3\", the function calls the `retrieve_and_generate` method of the `bedrock_agent_client` object, passing in the input text and a configuration for retrieving and generating from external sources. The configuration specifies that the source is an S3 location, and it provides the S3 URI of the document.\n",
    "\n",
    "If the `sourceType` is not \"S3\", the function calls the same `retrieve_and_generate` method, but with a different configuration. In this case, the source is specified as byte content, which includes a file name, content type (application/pdf), and the actual text data."
   ]
  },
  {
   "cell_type": "code",
   "execution_count": 6,
   "metadata": {},
   "outputs": [],
   "source": [
    "def retrieveAndGenerate(input, sourceType=\"S3\", model_id = \"anthropic.claude-3-sonnet-20240229-v1:0\"):\n",
    "    model_arn = f'arn:aws:bedrock:{region}::foundation-model/{model_id}'\n",
    "    if sourceType==\"S3\":\n",
    "        return bedrock_agent_client.retrieve_and_generate(\n",
    "            input={\n",
    "                'text': input\n",
    "            },\n",
    "            retrieveAndGenerateConfiguration={\n",
    "                'type': 'EXTERNAL_SOURCES',\n",
    "                'externalSourcesConfiguration': {\n",
    "                    'modelArn': model_arn,\n",
    "                    \"sources\": [\n",
    "                        {\n",
    "                            \"sourceType\": sourceType,\n",
    "                            \"s3Location\": {\n",
    "                                \"uri\": document_s3_uri\n",
    "                            }\n",
    "                        }\n",
    "                    ]\n",
    "                }\n",
    "            }\n",
    "        )\n",
    "    else:\n",
    "        return bedrock_agent_client.retrieve_and_generate(\n",
    "            input={\n",
    "                'text': input\n",
    "            },\n",
    "            retrieveAndGenerateConfiguration={\n",
    "                'type': 'EXTERNAL_SOURCES',\n",
    "                'externalSourcesConfiguration': {\n",
    "                    'modelArn': model_arn,\n",
    "                    \"sources\": [\n",
    "                        {\n",
    "                            \"sourceType\": sourceType,\n",
    "                            \"byteContent\": {\n",
    "                                \"identifier\": file_name,\n",
    "                                \"contentType\": \"application/pdf\",\n",
    "                                \"data\": text,\n",
    "                                }\n",
    "                        }\n",
    "                    ]\n",
    "                }\n",
    "            }\n",
    "        )"
   ]
  },
  {
   "cell_type": "markdown",
   "metadata": {
    "collapsed": false
   },
   "source": [
    "If you want to chat with the document by uploading the file use `sourceType` as `BYTE_CONTENT` for pointing it to s3 bucket, use `sourceType` as `S3`."
   ]
  },
  {
   "cell_type": "code",
   "execution_count": 7,
   "metadata": {
    "collapsed": false,
    "jupyter": {
     "outputs_hidden": false
    }
   },
   "outputs": [],
   "source": [
    "query = \"What is AWS year-over-year revenue in 2022?\"\n",
    "response = retrieveAndGenerate(input=query)\n",
    "generated_text = response['output']['text']\n",
    "pp.pprint(generated_text)"
   ]
  },
  {
   "cell_type": "markdown",
   "metadata": {
    "collapsed": false
   },
   "source": [
    "## Citations or source attributions\n",
    "Lets retrieve the source attribution or citations for the above response.\n"
   ]
  },
  {
   "cell_type": "code",
   "execution_count": 20,
   "metadata": {},
   "outputs": [
    {
     "name": "stdout",
     "output_type": "stream",
     "text": [
      "[ 'Dear shareholders:   As I sit down to write my second annual shareholder '\n",
      "  'letter as CEO, I find myself optimistic and energized by what lies ahead '\n",
      "  'for Amazon. Despite 2022 being one of the harder macroeconomic years in '\n",
      "  'recent memory, and with some of our own operating challenges to boot, we '\n",
      "  'still found a way to grow demand (on top of the unprecedented growth we '\n",
      "  'experienced in the first half of the pandemic). We innovated in our largest '\n",
      "  'businesses to meaningfully improve customer experience short and long term. '\n",
      "  'And, we made important adjustments in our investment decisions and the way '\n",
      "  'in which we’ll invent moving forward, while still preserving the long-term '\n",
      "  'investments that we believe can change the future of Amazon for customers, '\n",
      "  'shareholders, and employees.   While there were an unusual number of '\n",
      "  'simultaneous challenges this past year, the reality is that if you operate '\n",
      "  'in large, dynamic, global market segments with many capable and well-funded '\n",
      "  'competitors (the conditions in which Amazon operates all of its '\n",
      "  'businesses), conditions rarely stay stagnant for long.   In the 25 years '\n",
      "  'I’ve been at Amazon, there has been constant change, much of which we’ve '\n",
      "  'initiated ourselves. ',\n",
      "  'We made the long-term decision to continue investing in AWS. Fifteen years '\n",
      "  'later, AWS is now an $85B annual revenue run rate business, with strong '\n",
      "  'profitability, that has transformed how customers from start-ups to '\n",
      "  'multinational companies to public sector organizations manage their '\n",
      "  'technology infrastructure. Amazon would be a different company if we’d '\n",
      "  'slowed investment in AWS during that 2008-2009 period.   Change is always '\n",
      "  'around the corner. Sometimes, you proactively invite it in, and sometimes '\n",
      "  'it just comes a-knocking. But, when you see it’s coming, you have to '\n",
      "  'embrace it. And, the companies that do this well over a long period of time '\n",
      "  'usually succeed. I’m optimistic about our future prospects because I like '\n",
      "  'the way our team is responding to the changes we see in front of us.        '\n",
      "  'Over the last several months, we took a deep look across the company, '\n",
      "  'business by business, invention by invention, and asked ourselves whether '\n",
      "  'we had conviction about each initiative’s long-term potential to drive '\n",
      "  'enough revenue, operating income, free cash flow, and return on invested '\n",
      "  'capital. In some cases, it led to us shuttering certain businesses. ',\n",
      "  'For instance, we stopped pursuing physical store concepts like our '\n",
      "  'Bookstores and 4 Star stores, closed our Amazon Fabric and Amazon Care '\n",
      "  'efforts, and moved on from some newer devices where we didn’t see a path to '\n",
      "  'meaningful returns. In other cases, we looked at some programs that weren’t '\n",
      "  'producing the returns we’d hoped (e.g. free shipping for all online grocery '\n",
      "  'orders over $35) and amended them. We also reprioritized where to spend our '\n",
      "  'resources, which ultimately led to the hard decision to eliminate 27,000 '\n",
      "  'corporate roles. There are a number of other changes that we’ve made over '\n",
      "  'the last several months to streamline our overall costs, and like most '\n",
      "  'leadership teams, we’ll continue to evaluate what we’re seeing in our '\n",
      "  'business and proceed adaptively.   We also looked hard at how we were '\n",
      "  'working together as a team and asked our corporate employees to come back '\n",
      "  'to the office at least three days a week, beginning in May. During the '\n",
      "  'pandemic, our employees rallied to get work done from home and did '\n",
      "  'everything possible to keep up with the unexpected circumstances that '\n",
      "  'presented themselves. It was impressive and I’m proud of the way our '\n",
      "  'collective team came together to overcome unprecedented challenges for our '\n",
      "  'customers, communities, and business. ',\n",
      "  'A critical challenge we’ve continued to tackle is the rising cost to serve '\n",
      "  'in our Stores fulfillment network (i.e. the cost to get a product from '\n",
      "  'Amazon to a customer)—and we’ve made several changes that we believe will '\n",
      "  'meaningfully improve our fulfillment costs and speed of delivery.   During '\n",
      "  'the early part of the pandemic, with many physical stores shut down, our '\n",
      "  'consumer business grew at an extraordinary clip, with annual revenue '\n",
      "  'increasing from $245B in 2019 to $434B in 2022. This meant that we had to '\n",
      "  'double the fulfillment center footprint that we’d built over the prior 25 '\n",
      "  'years and substantially accelerate building a last-mile transportation '\n",
      "  'network that’s now the size of UPS (along with a new sortation center '\n",
      "  'network to assist with efficiency and speed when items needed to traverse '\n",
      "  'long distances)—all in the span of about two years. This was no easy feat, '\n",
      "  'and hundreds of thousands of Amazonians worked very hard to make this '\n",
      "  'happen. However, not surprisingly, with that rate and scale of change, '\n",
      "  'there was a lot of optimization needed to yield the intended productivity. '\n",
      "  'Over the last several months, we’ve scrutinized every process path in our '\n",
      "  'fulfillment centers and transportation network and redesigned scores of '\n",
      "  'processes and mechanisms, resulting in steady productivity gains and cost '\n",
      "  'reductions over the last few quarters. ',\n",
      "  'There’s more work to do, but we’re pleased with our trajectory and the '\n",
      "  'meaningful upside in front of us.   We also took this occasion to make '\n",
      "  'larger structural changes that set us up better to deliver lower costs and '\n",
      "  'faster speed for many years to come. A good example was reevaluating how '\n",
      "  'our US fulfillment network was organized. Until recently, Amazon operated '\n",
      "  'one national US fulfillment network that distributed inventory from '\n",
      "  'fulfillment centers spread across the entire country. If a local '\n",
      "  'fulfillment center didn’t have the product a customer ordered, we’d end up '\n",
      "  'shipping it from other parts of the country, costing us more and increasing '\n",
      "  'delivery times. This challenge became more pronounced as our fulfillment '\n",
      "  'network expanded to hundreds of additional nodes over the last few years, '\n",
      "  'distributing inventory across more locations and increasing the complexity '\n",
      "  'of connecting the fulfillment center and delivery station nodes '\n",
      "  'efficiently. Last year, we started rearchitecting our inventory placement '\n",
      "  'strategy and leveraging our larger fulfillment center footprint to move '\n",
      "  'from a national fulfillment network to a regionalized network model. We '\n",
      "  'made significant internal changes (e.g. placement and logistics software, '\n",
      "  'processes, physical operations) to create eight interconnected regions in '\n",
      "  'smaller geographic areas. ',\n",
      "  'Despite growing 29% year-over- year (“YoY”) in 2022 on a $62B revenue base, '\n",
      "  'AWS faces short-term headwinds right now as companies are being more '\n",
      "  'cautious in spending given the challenging, current macroeconomic '\n",
      "  'conditions. While some companies might obsess over how they could extract '\n",
      "  'as much money from customers as possible in these tight times, it’s neither '\n",
      "  'what customers want nor best for customers in the long term, so we’re '\n",
      "  'taking a different tack. One of the many advantages of AWS and cloud '\n",
      "  'computing is that when your business grows, you can seamlessly scale up; '\n",
      "  'and conversely, if your business contracts, you can choose to give us back '\n",
      "  'that capacity and cease paying for it. This elasticity is unique to the '\n",
      "  'cloud, and doesn’t exist when you’ve already made expensive capital '\n",
      "  'investments in your own on-premises datacenters, servers, and networking '\n",
      "  'gear. In AWS, like all our businesses, we’re not trying to optimize for any '\n",
      "  'one quarter or year. We’re trying to build customer relationships (and a '\n",
      "  'business) that outlast all of us; and as a result, our AWS sales and '\n",
      "  'support teams are spending much of their time helping customers optimize '\n",
      "  'their AWS spend so they can better weather this uncertain economy. ',\n",
      "  'Graviton2-based compute instances deliver up to 40% better '\n",
      "  'price-performance than the comparable latest generation x86-based '\n",
      "  'instances; and in 2022, we delivered our Graviton3 chips, providing 25% '\n",
      "  'better performance than the Graviton2 processors. Further, as machine '\n",
      "  'learning adoption has continued to accelerate, customers have yearned for '\n",
      "  'lower-cost GPUs (the chips most commonly used for machine learning). AWS '\n",
      "  'started investing years ago in these specialized chips for machine learning '\n",
      "  'training and inference (inferences are the predictions or answers that a '\n",
      "  'machine learning model provides). We delivered our first training chip in '\n",
      "  '2022 (“Trainium”); and for the most common machine learning models, '\n",
      "  'Trainium-based instances are up to 140% faster than GPU-based instances at '\n",
      "  'up to 70% lower cost. Most companies are still in the training stage, but '\n",
      "  'as they develop models that graduate to large-scale production, they’ll '\n",
      "  'find that most of the cost is in inference because models are trained '\n",
      "  'periodically whereas inferences are happening all the time as their '\n",
      "  'associated application is being exercised. We launched our first inference '\n",
      "  'chips (“Inferentia”) in 2019, and they have saved companies like Amazon '\n",
      "  'over a hundred million dollars in capital expense already. ',\n",
      "  'Our Inferentia2 chip, which just launched, offers up to four times higher '\n",
      "  'throughput and ten times lower latency than our first Inferentia processor. '\n",
      "  'With the enormous upcoming growth in machine learning, customers will be '\n",
      "  'able to get a lot more done with AWS’s training and inference chips at a '\n",
      "  'significantly lower cost. We’re not close to being done innovating here, '\n",
      "  'and this long-term investment should prove fruitful for both customers and '\n",
      "  'AWS. AWS is still in the early stages of its evolution, and has a chance '\n",
      "  'for unusual growth in the next decade.   Similarly high potential, Amazon’s '\n",
      "  'Advertising business is uniquely effective for brands, which is part of why '\n",
      "  'it continues to grow at a brisk clip. Akin to physical retailers’ '\n",
      "  'advertising businesses selling shelf space, end- caps, and placement in '\n",
      "  'their circulars, our sponsored products and brands offerings have been an '\n",
      "  'integral part        of the Amazon shopping experience for more than a '\n",
      "  'decade. However, unlike physical retailers, Amazon can tailor these '\n",
      "  'sponsored products to be relevant to what customers are searching for given '\n",
      "  'what we know about shopping behaviors and our very deep investment in '\n",
      "  'machine learning algorithms. This leads to advertising that’s more useful '\n",
      "  'for customers; and as a result, performs better for brands. ',\n",
      "  'These new countries take a certain amount of fixed investment to get '\n",
      "  'started and to scale, but we like the trajectory they’re on, and their '\n",
      "  'growth patterns resemble what we’ve seen in North America and our '\n",
      "  'established international geographies. Emerging countries sometimes lack '\n",
      "  'some of the infrastructure and services that our business relies on (e.g. '\n",
      "  'payment methods, transportation services, and internet/ telecom '\n",
      "  'infrastructure). To solve these challenges, we continue to work with '\n",
      "  'various partners to deliver solutions for customers. Ultimately, we believe '\n",
      "  'that this investment in serving a broader geographical footprint will allow '\n",
      "  'us to help more customers across the world, as well as build a larger free '\n",
      "  'cash flow-generating consumer business.        Beyond geographic expansion, '\n",
      "  'we’ve been working to expand our customer offerings across some large, '\n",
      "  'unique product retail market segments. Grocery is an $800B market segment '\n",
      "  'in the US alone, with the average household shopping three to four times '\n",
      "  'per week. Amazon has built a somewhat unusual, but significant grocery '\n",
      "  'business over nearly 20 years. ',\n",
      "  'Similar to how other mass merchants entered the grocery space in the 1980s, '\n",
      "  'we began by adding products typically found in supermarket aisles that '\n",
      "  'don’t require temperature control such as paper products, canned and boxed '\n",
      "  'food, candy and snacks, pet care, health and personal care, and beauty. '\n",
      "  'However, we offer more than three million items compared to a typical '\n",
      "  'supermarket’s 30K for the same categories. To date, we’ve also focused on '\n",
      "  'larger pack sizes, given the current cost to serve online delivery. While '\n",
      "  'we’re pleased with the size and growth of our grocery business, we aspire '\n",
      "  'to serve more of our customers’ grocery needs than we do today. To do so, '\n",
      "  'we need a broader physical store footprint given that most of the grocery '\n",
      "  'shopping still happens in physical venues. Whole Foods Market pioneered the '\n",
      "  'natural and organic specialty grocery store concept 40 years ago. Today, '\n",
      "  'it’s a large and growing business that continues to raise the bar for '\n",
      "  'healthy and sustainable food. Over the past year, we’ve continued to invest '\n",
      "  'in the business while also making changes to drive better profitability. '\n",
      "  'Whole Foods is on an encouraging path, but to have a larger impact on '\n",
      "  'physical grocery, we must find a mass grocery format that we believe is '\n",
      "  'worth expanding broadly. ',\n",
      "  'Merchants are excited about converting more sales and fulfilling these '\n",
      "  'shipments more easily, Prime members love that they can use their Prime '\n",
      "  'benefits on more destinations, and Buy with Prime allows us to improve the '\n",
      "  'shopping experience across more of the web.   Expanding internationally, '\n",
      "  'pursuing large retail market segments that are still nascent for Amazon, '\n",
      "  'and using our unique assets to help merchants sell more effectively on '\n",
      "  'their own websites are somewhat natural extensions for us. There are also a '\n",
      "  'few investments we’re making that are further from our core businesses, but '\n",
      "  'where we see unique opportunity. In 2003, AWS would have been a classic '\n",
      "  'example. In 2023, Amazon Healthcare and Kuiper are potential analogues.   '\n",
      "  'Our initial efforts in Healthcare began with pharmacy, which felt less like '\n",
      "  'a major departure from ecommerce. For years, Amazon customers had asked us '\n",
      "  'when we’d offer them an online pharmacy as their frustrations mounted with '\n",
      "  'current providers. Launched in 2020, Amazon Pharmacy is a full-service, '\n",
      "  'online pharmacy that offers transparent pricing, easy refills, and savings '\n",
      "  'for Prime members. The business is growing quickly, and continues to '\n",
      "  'innovate. ',\n",
      "  'One Medical has relationships with specialty physicians in each of its '\n",
      "  'cities and works closely with local hospital systems to make seeing '\n",
      "  'specialists easy, so One Medical members can quickly access these resources '\n",
      "  'when needed. Going forward, we strongly believe that One Medical and Amazon '\n",
      "  'will continue to innovate together to change what primary care will look '\n",
      "  'like for customers.   Kuiper is another example of Amazon innovating for '\n",
      "  'customers over the long term in an area where there’s high customer need. '\n",
      "  'Our vision for Kuiper is to create a low-Earth orbit satellite system to '\n",
      "  'deliver high-quality broadband internet service to places around the world '\n",
      "  'that don’t currently have it. There are hundreds of millions of households '\n",
      "  'and businesses who don’t have reliable access to the internet. Imagine what '\n",
      "  'they’ll be able to do with reliable connectivity, from people taking online '\n",
      "  'education courses, using financial services, starting their own businesses, '\n",
      "  'doing their shopping, enjoying entertainment, to businesses and governments '\n",
      "  'improving their coverage, efficiency, and operations. Kuiper will deliver '\n",
      "  'not only accessibility, but affordability. Our teams have developed '\n",
      "  'low-cost antennas (i.e. customer terminals) that will lower the barriers to '\n",
      "  'access. ',\n",
      "  'One final investment area that I’ll mention, that’s core to setting Amazon '\n",
      "  'up to invent in every area of our business for many decades to come, and '\n",
      "  'where we’re investing heavily is Large Language Models (“LLMs”) and '\n",
      "  'Generative AI. Machine learning has been a technology with high promise for '\n",
      "  'several decades, but it’s only been the last five to ten years that it’s '\n",
      "  'started to be used more pervasively by companies. This shift was driven by '\n",
      "  'several factors, including access to higher volumes of compute capacity at '\n",
      "  'lower prices than was ever available. Amazon has been using machine '\n",
      "  'learning extensively for 25 years, employing it in everything from '\n",
      "  'personalized ecommerce recommendations, to fulfillment center pick paths, '\n",
      "  'to drones for Prime Air, to Alexa, to the many machine learning services '\n",
      "  'AWS offers (where AWS has the broadest machine learning functionality and '\n",
      "  'customer base of any cloud provider). More recently, a newer form of '\n",
      "  'machine learning, called Generative AI, has burst onto the scene and '\n",
      "  'promises to significantly accelerate machine learning adoption. Generative '\n",
      "  'AI is based on very Large Language Models (trained on up to hundreds of '\n",
      "  'billions of parameters, and growing), across expansive datasets, and has '\n",
      "  'radically general and broad recall and learning capabilities. ',\n",
      "  'We have been working on our own LLMs for a while now, believe it will '\n",
      "  'transform and improve virtually every customer experience, and will '\n",
      "  'continue to invest substantially in these models across all of our '\n",
      "  'consumer, seller, brand, and creator experiences. Additionally, as we’ve '\n",
      "  'done for years in AWS, we’re democratizing this technology so companies of '\n",
      "  'all sizes can leverage Generative AI. AWS is offering the most '\n",
      "  'price-performant machine learning chips in Trainium and Inferentia so small '\n",
      "  'and large companies can afford to train and run their LLMs in production. '\n",
      "  'We enable companies to choose from various LLMs and build applications with '\n",
      "  'all of the AWS security, privacy and other features that customers are '\n",
      "  'accustomed to using. And, we’re delivering applications like AWS’s '\n",
      "  'CodeWhisperer, which revolutionizes        developer productivity by '\n",
      "  'generating code suggestions in real time. I could write an entire letter on '\n",
      "  'LLMs and Generative AI as I think they will be that transformative, but '\n",
      "  'I’ll leave that for a future letter. Let’s just say that LLMs and '\n",
      "  'Generative AI are going to be a big deal for customers, our shareholders, '\n",
      "  'and Amazon.   So, in closing, I’m optimistic that we’ll emerge from this '\n",
      "  'challenging macroeconomic time in a stronger position than when we entered '\n",
      "  'it. ']\n"
     ]
    }
   ],
   "source": [
    "citations = response[\"citations\"]\n",
    "contexts = []\n",
    "for citation in citations:\n",
    "    retrievedReferences = citation[\"retrievedReferences\"]\n",
    "    for reference in retrievedReferences:\n",
    "         contexts.append(reference[\"content\"][\"text\"])\n",
    "\n",
    "pp.pprint(contexts)"
   ]
  },
  {
   "cell_type": "markdown",
   "metadata": {},
   "source": [
    "## Next Steps\n",
    "In this notebook, we covered how Knowledge Bases for Amazon Bedrock now simplifies asking questions on a single document. We also demonstrated how to configure and use this capability through the Amazon Bedrock - AWS SDK, showcasing the simplicity and flexibility of this feature, which provides a zero-setup solution to gather information from a single document, without setting up a vector database.\n",
    "\n",
    "To further explore the capabilities of Knowledge Bases for Amazon Bedrock, refer to the following resources:\n",
    "\n",
    "[Knowledge bases for Amazon Bedrock](#https://docs.aws.amazon.com/bedrock/latest/userguide/knowledge-base.html)\n"
   ]
  },
  {
   "cell_type": "code",
   "execution_count": null,
   "metadata": {
    "collapsed": false
   },
   "outputs": [],
   "source": []
  }
 ],
 "metadata": {
  "kernelspec": {
   "display_name": "Python 3 (ipykernel)",
   "language": "python",
   "name": "python3"
  },
  "language_info": {
   "codemirror_mode": {
    "name": "ipython",
    "version": 3
   },
   "file_extension": ".py",
   "mimetype": "text/x-python",
   "name": "python",
   "nbconvert_exporter": "python",
   "pygments_lexer": "ipython3",
   "version": "3.11.5"
  }
 },
 "nbformat": 4,
 "nbformat_minor": 4
}
